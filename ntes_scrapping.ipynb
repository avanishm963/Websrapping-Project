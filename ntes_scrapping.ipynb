{
 "cells": [
  {
   "cell_type": "code",
   "execution_count": 4,
   "metadata": {},
   "outputs": [],
   "source": [
    "import numpy as np\n",
    "import pandas as pd\n",
    "import matplotlib as plt"
   ]
  },
  {
   "cell_type": "code",
   "execution_count": 5,
   "metadata": {},
   "outputs": [],
   "source": [
    "from selenium import webdriver\n",
    "from selenium.webdriver.chrome.service import Service\n",
    "from selenium.webdriver.common.by import By\n",
    "from selenium.webdriver.support.ui import Select\n",
    "from selenium.webdriver.chrome.options import Options"
   ]
  },
  {
   "cell_type": "code",
   "execution_count": 6,
   "metadata": {},
   "outputs": [],
   "source": [
    "from bs4 import BeautifulSoup"
   ]
  },
  {
   "cell_type": "code",
   "execution_count": 7,
   "metadata": {},
   "outputs": [],
   "source": [
    "# weblink: https://enquiry.indianrail.gov.in/mntes/"
   ]
  },
  {
   "cell_type": "code",
   "execution_count": 12,
   "metadata": {},
   "outputs": [],
   "source": [
    "# Set up the web driver using the Service object\n",
    "driver_path = r\"C:\\Users\\Dell\\Desktop\\chromedriver128\\chromedriver.exe\"\n",
    "service = Service(executable_path = driver_path) #creating a service object"
   ]
  },
  {
   "cell_type": "code",
   "execution_count": 14,
   "metadata": {},
   "outputs": [],
   "source": [
    "# Configure Chrome options\n",
    "chrome_options = Options()\n",
    "driver = webdriver.Chrome(executable_path = driver_path, options=chrome_options)"
   ]
  },
  {
   "cell_type": "code",
   "execution_count": 15,
   "metadata": {},
   "outputs": [],
   "source": [
    "# Load the webpage\n",
    "url = \" https://enquiry.indianrail.gov.in/mntes/\"\n",
    "driver.get(url) #opens the specified url"
   ]
  },
  {
   "cell_type": "code",
   "execution_count": 16,
   "metadata": {},
   "outputs": [],
   "source": [
    "# Locate the input field by its ID (you can use other locators like name, class, etc.)\n",
    "input_field = driver.find_element(By.ID, 'trainNo')\n",
    "# Enter the number into the input field\n",
    "input_field.send_keys('12166')"
   ]
  },
  {
   "cell_type": "code",
   "execution_count": 17,
   "metadata": {},
   "outputs": [],
   "source": [
    "link = driver.find_element(By.XPATH, '//*[@id=\"train03-sep-2024\"]/div[4]/header/div[1]/div[3]/h5/input')\n",
    "link.click()"
   ]
  },
  {
   "cell_type": "code",
   "execution_count": 18,
   "metadata": {},
   "outputs": [],
   "source": [
    "soup = BeautifulSoup(driver.page_source, \"html.parser\")"
   ]
  },
  {
   "cell_type": "code",
   "execution_count": 19,
   "metadata": {},
   "outputs": [],
   "source": [
    "# Find the table rows\n",
    "rows = soup.select(\"tr\")"
   ]
  },
  {
   "cell_type": "code",
   "execution_count": 21,
   "metadata": {},
   "outputs": [
    {
     "name": "stdout",
     "output_type": "stream",
     "text": [
      "            Sl.No Candidate Name\n",
      "0  Train No./Name               \n",
      "1    04-Sep 10:57           None\n"
     ]
    }
   ],
   "source": [
    "# Create empty lists for the table data\n",
    "table_data = []\n",
    "\n",
    "# Loop through the rows and extract the cell data\n",
    "for row in rows:\n",
    "    cells = row.find_all(\"td\")\n",
    "    row_data = [cell.get_text(strip=True) for cell in cells]\n",
    "    table_data.append(row_data)\n",
    "\n",
    "data=pd.DataFrame(table_data, columns=[\"Sl.No\", \"Candidate Name\"])\n",
    "print(data)"
   ]
  },
  {
   "cell_type": "code",
   "execution_count": 26,
   "metadata": {},
   "outputs": [
    {
     "data": {
      "text/plain": [
       "'\\n\\n\\n\\n\\n\\n\\n\\n\\n\\n\\n\\n\\n\\n\\n\\n\\n\\n\\n\\n\\n\\n\\n\\n\\n\\nNTES\\n\\n\\n\\n\\n\\n\\n\\n\\n\\n\\n\\n\\n\\n\\n\\n\\n\\n\\n\\n\\n\\n\\n\\n\\n\\n\\nX\\n\\n\\n\\nNTES\\nIndian Railways\\nNational Train Enquiry System\\n\\n\\n\\n\\n \\xa0\\xa0\\xa0Spot Your Train \\n\\xa0\\xa0\\xa0Live Station \\n\\xa0\\xa0\\xa0Train Schedule \\n\\xa0\\xa0\\xa0Trains B/w Stations \\n\\xa0\\xa0\\xa0Train Exception Info\\n\\n\\xa0\\xa0\\xa0More Info\\n\\n\\xa0\\xa0Station Time Table\\n\\xa0\\xa0Parcel Special Trains\\n\\xa0\\xa0Average Delay\\n\\xa0\\xa0Heritage Trains\\n\\n\\n\\n\\xa0\\xa0\\xa0\\xa0\\xa0Useful Links\\n\\n\\xa0\\xa0PNR Status\\n\\xa0\\xa0Seat Availability\\n\\xa0\\xa0Ticket Booking\\n\\xa0\\xa0Freight Business\\n\\xa0\\xa0Mumbai Suburban(Western) \\n\\xa0\\xa0Mumbai Suburban (Central and Harbour)\\n\\n\\nGet Mobile App\\n\\n \\xa0Android\\n\\xa0\\xa0iOS \\n\\n\\xa0\\xa0Complaints \\n\\xa0\\xa0Language: English\\n\\xa0\\xa0Disclaimer\\n\\n\\n\\n\\n\\n\\n×\\n Download NTES Android App \\n\\n\\nScan QR or Download from Play Store\\n\\n\\n\\n\\n\\n\\n\\n\\n×\\nSelect Language \\n\\n\\n\\xa0\\xa01. English\\n\\xa0\\xa02. हिन्दी \\n\\xa0\\xa03. தமிழ் \\n\\xa0\\xa04. తెలుగు \\n\\xa0\\xa05. বাংলা \\n\\xa0\\xa06. मराठी \\n\\xa0\\xa07. ਪੰਜਾਬੀ \\n\\xa0\\xa08. ଓଡିଆ \\n\\xa0\\xa09. മലയാളം \\n\\n\\n\\n\\n\\n\\n\\n\\n\\n×\\nDownload NTES iOS App\\n\\n\\nScan QR or Download from App Store\\n\\n\\n\\n\\n\\n\\n\\n\\n\\n\\n\\n\\n\\n\\n\\n\\nNational Train Enquiry System\\n\\n\\n\\n\\n\\n\\nDue to heavy rain and waterlogging over the tracks at several locations on South Central Railway, many trains are cancelled/diverted. Click here  to know details (Press release from South Central Railway).  \\nSpot Your Train\\n\\n\\nTrain Instances\\n\\n\\nJourney Station Basis\\n\\n\\n\\n\\n\\xa0\\n\\n\\n\\n\\n\\n\\n\\nTrain No./Name \\n\\n\\n\\n\\n\\n\\xa0\\xa0\\n\\t\\t\\n\\n\\n\\n\\n\\n\\n\\n\\n\\n\\n\\n\\n\\n\\n\\n\\n\\n12166 GKP LTT EXPRESS\\n\\n\\n\\n\\nStart Date : \\xa0\\xa0\\n\\n\\n03-Sep-2024\\n\\n\\n\\n\\n\\nStart Date : 03-Sep-2024\\xa0  Current Position\\n\\nDeparted from BARUD(BRUD) on 10:45 04-Sep\\n\\n\\n\\nLast Updates On04-Sep-2024 10:52\\n Refresh\\n\\n\\n\\n65%\\n\\n\\n\\n\\n\\n\\n\\n\\n\\n\\n\\nGORAKHPUR JN - LOKMANYATILAK\\n  \\t\\t\\t\\t\\t\\t\\t\\n\\n\\n\\n\\n\\n\\nArrival\\t\\n\\n\\n\\nStation\\n\\n\\nDeparture\\n\\n\\n\\n\\n\\n\\n\\n\\n\\n\\n\\n\\n\\n\\n\\xa0SRC\\xa0\\xa0  \\n\\n\\xa0SRC\\xa0\\xa0  \\n\\n\\n\\n\\n\\n\\n\\n\\nGORAKHPUR JNGKP  PF 7*\\nSRC\\n\\n\\n15:25 03-Sep\\n\\n15:26 03-Sep\\n1 Min\\n\\n\\n\\n\\n\\n\\n\\nCoach Position  : 12166 | GORAKHPUR JN | 03-Sep\\n\\n×\\n\\n\\n\\n\\n\\nClose\\n\\n\\n\\n\\n\\n\\n\\n\\n\\n\\n16:25 03-Sep\\n\\n16:51 03-Sep\\n26 Min\\n\\n\\n\\n\\n\\n\\n\\nDEORIA SADARDEOS  PF 3*\\n50 KMs\\n\\n\\n16:30 03-Sep\\n\\n16:55 03-Sep\\n25 Min\\n\\n\\n\\n\\n\\n\\n\\nCoach Position  : 12166 | DEORIA SADAR | 03-Sep\\n\\n×\\n\\n\\n\\n\\n\\nClose\\n\\n\\n\\n\\n\\n\\n\\n\\n\\n\\n17:55 03-Sep\\n\\n18:34 03-Sep\\n39 Min\\n\\n\\n\\n\\n\\n\\n\\nMAU JNMAU  PF 1*\\n139 KMs\\n\\n\\n18:00 03-Sep\\n\\n18:39 03-Sep\\n39 Min\\n\\n\\n\\n\\n\\n\\n\\nCoach Position  : 12166 | MAU JN | 03-Sep\\n\\n×\\n\\n\\n\\n\\n\\nClose\\n\\n\\n\\n\\n\\n\\n\\n\\n\\n\\n20:10 03-Sep\\n\\n20:18 03-Sep\\n8 Min\\n\\n\\n\\n\\n\\n\\n\\nVARANASIBSB  PF 5*\\n232 KMs\\n\\n\\n20:20 03-Sep\\n\\n20:29 03-Sep\\n9 Min\\n\\n\\n\\n\\n\\n\\n\\nCoach Position  : 12166 | VARANASI | 03-Sep\\n\\n×\\n\\n\\n\\n\\n\\nClose\\n\\n\\n\\n\\n\\n\\n\\n\\n\\n\\n20:58 03-Sep\\n\\n21:12 03-Sep\\n14 Min\\n\\n\\n\\n\\n\\n\\n\\nBHADOHIBOY  PF 1*\\n276 KMs\\n\\n\\n21:00 03-Sep\\n\\n21:15 03-Sep\\n15 Min\\n\\n\\n\\n\\n\\n\\n\\nCoach Position  : 12166 | BHADOHI | 03-Sep\\n\\n×\\n\\n\\n\\n\\n\\nClose\\n\\n\\n\\n\\n\\n\\n\\n\\n\\n\\n21:28 03-Sep\\n\\n21:58 03-Sep\\n30 Min\\n\\n\\n\\n\\n\\n\\n\\nJANGHAI JNJNH  PF 2*\\n307 KMs\\n\\n\\n21:30 03-Sep\\n\\n22:01 03-Sep\\n31 Min\\n\\n\\n\\n\\n\\n\\n\\nCoach Position  : 12166 | JANGHAI JN | 03-Sep\\n\\n×\\n\\n\\n\\n\\n\\nClose\\n\\n\\n\\n\\n\\n\\n\\n\\n\\n\\n23:05 03-Sep\\n\\n23:26 03-Sep\\n21 Min\\n\\n\\n\\n\\n\\n\\n\\nPRAYAGRAJ JNPRYJ  PF 7*\\n366 KMs\\n\\n\\n23:30 03-Sep\\n\\n00:18 04-Sep\\n48 Min\\n\\n\\n\\n\\n\\n\\n\\nCoach Position  : 12166 | PRAYAGRAJ JN | 04-Sep (Reversal Point )\\n\\n×\\n\\n\\n\\n\\n\\nClose\\n\\n\\n\\n\\n\\n\\n\\n\\n\\n\\n02:15 04-Sep\\n\\n02:53 04-Sep\\n38 Min\\n\\n\\n\\n\\n\\n\\n\\nSATNASTA  PF 1*\\n545 KMs\\n\\n\\n02:20 04-Sep\\n\\n02:57 04-Sep\\n37 Min\\n\\n\\n\\n\\n\\n\\n\\nCoach Position  : 12166 | SATNA | 04-Sep\\n\\n×\\n\\n\\n\\n\\n\\nClose\\n\\n\\n\\n\\n\\n\\n\\n\\n\\n\\n03:33 04-Sep\\n\\n04:12 04-Sep\\n39 Min\\n\\n\\n\\n\\n\\n\\n\\nKATNIKTE  PF 5*\\n643 KMs\\n\\n\\n03:35 04-Sep\\n\\n04:20 04-Sep\\n45 Min\\n\\n\\n\\n\\n\\n\\n\\nCoach Position  : 12166 | KATNI | 04-Sep\\n\\n×\\n\\n\\n\\n\\n\\nClose\\n\\n\\n\\n\\n\\n\\n\\n\\n\\n\\n04:50 04-Sep\\n\\n05:46 04-Sep\\n56 Min\\n\\n\\n\\n\\n\\n\\n\\nJABALPURJBP  PF 1*\\n733 KMs\\n\\n\\n05:00 04-Sep\\n\\n05:57 04-Sep\\n57 Min\\n\\n\\n\\n\\n\\n\\n\\nCoach Position  : 12166 | JABALPUR | 04-Sep\\n\\n×\\n\\n\\n\\n\\n\\nClose\\n\\n\\n\\n\\n\\n\\n\\n\\n\\n\\n08:45 04-Sep\\n\\n08:58 04-Sep\\n13 Min\\n\\n\\n\\n\\n\\n\\n\\nITARSI JNET  PF 6*\\n979 KMs\\n\\n\\n08:55 04-Sep\\n\\n09:09 04-Sep\\n14 Min\\n\\n\\n\\n\\n\\n\\n\\nCoach Position  : 12166 | ITARSI JN | 04-Sep\\n\\n×\\n\\n\\n\\n\\n\\nClose\\n\\n\\n\\n\\n\\n\\n\\n\\n\\n\\nUpdated on\\n04-Sep-2024 10:52\\n\\n\\n\\n\\n\\n\\n\\n\\t\\t\\t\\t\\t\\t\\t    \\t\\t\\t\\n\\t\\t\\t\\t\\t\\t\\t\\t\\t\\t\\t\\n\\t\\t\\t\\t\\t\\t\\t\\t\\t\\t\\t\\tDeparted from BARUD\\xa0(BRUD) on 04-Sep-2024 10:45\\n\\t\\t\\t\\t\\t\\t\\t\\t\\t\\t\\t\\n\\t\\t\\t\\t\\t\\t\\t\\t\\t\\t\\t\\n\\n\\n\\n\\n\\nUpcoming Station\\n\\n\\n\\n\\t\\t\\t\\t\\t\\t\\t\\t\\t\\t\\t\\t\\tCHHANERA\\n\\t\\t\\t\\t\\t\\t\\t\\t\\t\\t\\t\\t\\t(CAER)\\n\\n\\n\\n\\n\\n\\n\\n\\n13:15 04-Sep\\n\\n13:15 04-Sep*\\nOn Time\\n\\n\\n\\n\\n\\n\\n\\nBHUSAVAL JNBSL  PF 4*\\n1284 KMs\\n\\n\\n13:20 04-Sep\\n\\n13:20 04-Sep*\\nOn Time\\n\\n\\n\\n\\n\\n\\n\\nCoach Position  : 12166 | BHUSAVAL JN | 04-Sep\\n\\n×\\n\\n\\n\\n\\n\\nClose\\n\\n\\n\\n\\n\\n\\n\\n\\n\\n\\n13:50 04-Sep\\n\\n13:50 04-Sep*\\nOn Time\\n\\n\\n\\n\\n\\n\\n\\nJALGAON JNJL  PF 2*\\n1309 KMs\\n\\n\\n13:52 04-Sep\\n\\n13:52 04-Sep*\\nOn Time\\n\\n\\n\\n\\n\\n\\n\\nCoach Position  : 12166 | JALGAON JN | 04-Sep\\n\\n×\\n\\n\\n\\n\\n\\nClose\\n\\n\\n\\n\\n\\n\\n\\n\\n\\n\\n15:52 04-Sep\\n\\n15:52 04-Sep*\\nOn Time\\n\\n\\n\\n\\n\\n\\n\\nMANMAD JNMMR  PF 3*\\n1468 KMs\\n\\n\\n15:55 04-Sep\\n\\n15:55 04-Sep*\\nOn Time\\n\\n\\n\\n\\n\\n\\n\\nCoach Position  : 12166 | MANMAD JN | 04-Sep\\n\\n×\\n\\n\\n\\n\\n\\nClose\\n\\n\\n\\n\\n\\n\\n\\n\\n\\n\\n16:50 04-Sep\\n\\n16:50 04-Sep*\\nOn Time\\n\\n\\n\\n\\n\\n\\n\\nNASIK ROADNK  PF 3*\\n1542 KMs\\n\\n\\n16:55 04-Sep\\n\\n16:55 04-Sep*\\nOn Time\\n\\n\\n\\n\\n\\n\\n\\nCoach Position  : 12166 | NASIK ROAD | 04-Sep\\n\\n×\\n\\n\\n\\n\\n\\nClose\\n\\n\\n\\n\\n\\n\\n\\n\\n\\n\\n19:47 04-Sep\\n\\n19:47 04-Sep*\\nOn Time\\n\\n\\n\\n\\n\\n\\n\\nKALYAN JNKYN  PF 6*\\n1675 KMs\\n\\n\\n19:50 04-Sep\\n\\n19:50 04-Sep*\\nOn Time\\n\\n\\n\\n\\n\\n\\n\\nCoach Position  : 12166 | KALYAN JN | 04-Sep\\n\\n×\\n\\n\\n\\n\\n\\nClose\\n\\n\\n\\n\\n\\n\\n\\n\\n\\n\\n20:12 04-Sep\\n\\n20:12 04-Sep*\\nOn Time\\n\\n\\n\\n\\n\\n\\n\\nTHANETNA  PF 8*\\n1696 KMs\\n\\n\\n20:15 04-Sep\\n\\n20:15 04-Sep*\\nOn Time\\n\\n\\n\\n\\n\\n\\n\\nCoach Position  : 12166 | THANE | 04-Sep\\n\\n×\\n\\n\\n\\n\\n\\nClose\\n\\n\\n\\n\\n\\n\\n\\n\\n\\n\\n20:50 04-Sep\\n\\n20:50 04-Sep*\\nOn Time\\n\\n\\n\\n\\n\\n\\n\\nLOKMANYATILAKLTT  PF 3*\\n1712 KMs\\n\\n\\n\\xa0DSTN\\xa0\\n\\n\\xa0DSTN\\xa0\\n\\n\\n\\n\\n\\n\\n\\n\\nCoach Position  : 12166 | LOKMANYATILAK | 04-Sep\\n\\n×\\n\\n\\n\\n\\n\\nClose\\n\\n\\n\\n\\n\\n\\n\\n\\n\\n\\n\\n\\n\\n\\n\\n\\n\\n\\n\\n\\n\\n\\n\\n\\n\\n\\n\\n\\n\\n\\n\\n\\n\\n\\n\\n04-Sep 10:57\\xa0\\n\\n\\n\\n\\n\\n\\n\\n\\n\\nProperty of Indian Railways\\nDesigned and Hosted by CRIS\\nCopyright @ 2013 Centre for Railway Information Systems\\nAll Rights Reserved\\n\\n\\n\\n\\n\\n\\n\\n\\n\\n\\n\\n\\n\\n\\n\\n\\n\\n'"
      ]
     },
     "execution_count": 26,
     "metadata": {},
     "output_type": "execute_result"
    }
   ],
   "source": [
    "soup.get_text()"
   ]
  },
  {
   "cell_type": "code",
   "execution_count": 31,
   "metadata": {},
   "outputs": [
    {
     "name": "stdout",
     "output_type": "stream",
     "text": [
      "NTES\n",
      "                      Sl.No  Candidate Name     c                d  \\\n",
      "0     12166 GKP LTT EXPRESS            None  None             None   \n",
      "1   Days of Run:Tue,Fri,Sat  Type:SUPERFAST  None             None   \n",
      "2                       Sr.         Station  Code  Avg. Arr. Delay   \n",
      "3                         1    GORAKHPUR JN   GKP                    \n",
      "4                         2    DEORIA SADAR  DEOS            00:08   \n",
      "5                         3          MAU JN   MAU            00:21   \n",
      "6                         4        VARANASI   BSB            00:26   \n",
      "7                         5         BHADOHI   BOY            00:47   \n",
      "8                         6      JANGHAI JN   JNH            01:05   \n",
      "9                         7    PRAYAGRAJ JN  PRYJ            01:11   \n",
      "10                        8           SATNA   STA            01:16   \n",
      "11                        9           KATNI   KTE            01:19   \n",
      "12                       10        JABALPUR   JBP            01:25   \n",
      "13                       11       ITARSI JN    ET            00:49   \n",
      "14                       12     BHUSAVAL JN   BSL            00:50   \n",
      "15                       13      JALGAON JN    JL            00:53   \n",
      "16                       14       MANMAD JN   MMR            01:29   \n",
      "17                       15      NASIK ROAD    NK            01:30   \n",
      "18                       16       KALYAN JN   KYN            01:09   \n",
      "19                       17           THANE   TNA            00:42   \n",
      "20                       18   LOKMANYATILAK   LTT            01:26   \n",
      "21             04-Sep 11:01            None  None             None   \n",
      "\n",
      "                  e  \n",
      "0              None  \n",
      "1              None  \n",
      "2   Avg. Dep. Delay  \n",
      "3           On Time  \n",
      "4             00:09  \n",
      "5             00:23  \n",
      "6             00:28  \n",
      "7             00:48  \n",
      "8             01:06  \n",
      "9             01:24  \n",
      "10            01:16  \n",
      "11            01:25  \n",
      "12            01:28  \n",
      "13            00:49  \n",
      "14            00:56  \n",
      "15            00:55  \n",
      "16            01:31  \n",
      "17            01:29  \n",
      "18            01:11  \n",
      "19            00:43  \n",
      "20                   \n",
      "21             None  \n"
     ]
    }
   ],
   "source": [
    " # Get all window handles\n",
    "window_handles = driver.window_handles\n",
    "\n",
    "    # Switch to the new window/tab (the second one in the list)\n",
    "driver.switch_to.window(window_handles[1])\n",
    "\n",
    "    # Perform actions in the new window/tab\n",
    "print(driver.title)  # Print the title of the new window\n",
    "soup = BeautifulSoup(driver.page_source, \"html.parser\")\n",
    "rows = soup.select(\"tr\")\n",
    "table_data = []\n",
    "\n",
    "# Loop through the rows and extract the cell data\n",
    "for row in rows:\n",
    "    cells = row.find_all(\"td\")\n",
    "    row_data = [cell.get_text(strip=True) for cell in cells]\n",
    "    table_data.append(row_data)\n",
    "\n",
    "data=pd.DataFrame(table_data, columns=[\"Sl.No\", \"Candidate Name\",'c','d','e'])\n",
    "print(data)\n"
   ]
  },
  {
   "cell_type": "code",
   "execution_count": null,
   "metadata": {},
   "outputs": [],
   "source": []
  }
 ],
 "metadata": {
  "kernelspec": {
   "display_name": "python_for_economists",
   "language": "python",
   "name": "python3"
  },
  "language_info": {
   "codemirror_mode": {
    "name": "ipython",
    "version": 3
   },
   "file_extension": ".py",
   "mimetype": "text/x-python",
   "name": "python",
   "nbconvert_exporter": "python",
   "pygments_lexer": "ipython3",
   "version": "3.9.19"
  }
 },
 "nbformat": 4,
 "nbformat_minor": 2
}
